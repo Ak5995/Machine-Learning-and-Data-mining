{
 "cells": [
  {
   "cell_type": "markdown",
   "metadata": {
    "id": "uEsG5m5RrKAY"
   },
   "source": [
    "**Rain in Australia dataset:** \\\n",
    "\n",
    "Notebook 4, Model development and evaluation\n"
   ]
  },
  {
   "cell_type": "code",
   "execution_count": null,
   "metadata": {
    "colab": {
     "base_uri": "https://localhost:8080/"
    },
    "executionInfo": {
     "elapsed": 77928,
     "status": "ok",
     "timestamp": 1622624898745,
     "user": {
      "displayName": "Fan Yam Tsang",
      "photoUrl": "https://lh3.googleusercontent.com/a-/AOh14GhqsreTR8xuJ_RYX8Ry0bwIpzd0j-yDwFPhdvONBQ=s64",
      "userId": "14707262602926426667"
     },
     "user_tz": -60
    },
    "id": "xwziYS6bE8An",
    "outputId": "1fbafa47-82d7-4034-a12b-90a72decc1f5"
   },
   "outputs": [
    {
     "name": "stdout",
     "output_type": "stream",
     "text": [
      "Mounted at /content/drive\n"
     ]
    }
   ],
   "source": [
    "from google.colab import drive\n",
    "drive.mount('/content/drive')"
   ]
  },
  {
   "cell_type": "code",
   "execution_count": null,
   "metadata": {
    "id": "24kY_1lAFC1Y"
   },
   "outputs": [],
   "source": [
    "import os\n",
    "os.chdir(\"./drive/MyDrive/Colab_Notebooks/MLDM_project/\")\n",
    "# os.chdir(\"./drive/MyDrive/Colab Notebooks\")"
   ]
  },
  {
   "cell_type": "code",
   "execution_count": null,
   "metadata": {
    "colab": {
     "base_uri": "https://localhost:8080/"
    },
    "executionInfo": {
     "elapsed": 1041,
     "status": "ok",
     "timestamp": 1622624926659,
     "user": {
      "displayName": "Fan Yam Tsang",
      "photoUrl": "https://lh3.googleusercontent.com/a-/AOh14GhqsreTR8xuJ_RYX8Ry0bwIpzd0j-yDwFPhdvONBQ=s64",
      "userId": "14707262602926426667"
     },
     "user_tz": -60
    },
    "id": "3c432Zi3hWhx",
    "outputId": "f8ee1609-efa7-4886-a007-2cf45e8a95cc"
   },
   "outputs": [
    {
     "name": "stdout",
     "output_type": "stream",
     "text": [
      "['weatherAUS.csv', 'data.csv', 'bankruptcy_train_imbalanced.npy', 'bankruptcy_train.npy', 'bankruptcy_train_train.npy', 'bankruptcy_train_val.npy', 'bankruptcy_test.npy', 'rain_train_train.npy', 'rain_train_val.npy', 'rain_train.npy', 'rain_test.npy']\n"
     ]
    }
   ],
   "source": [
    "print(os.listdir(\"input_data/\"))"
   ]
  },
  {
   "cell_type": "markdown",
   "metadata": {
    "id": "8VFn3-UY0noN"
   },
   "source": [
    "Installing the required packages"
   ]
  },
  {
   "cell_type": "code",
   "execution_count": null,
   "metadata": {
    "colab": {
     "base_uri": "https://localhost:8080/"
    },
    "executionInfo": {
     "elapsed": 6730,
     "status": "ok",
     "timestamp": 1622624955373,
     "user": {
      "displayName": "Fan Yam Tsang",
      "photoUrl": "https://lh3.googleusercontent.com/a-/AOh14GhqsreTR8xuJ_RYX8Ry0bwIpzd0j-yDwFPhdvONBQ=s64",
      "userId": "14707262602926426667"
     },
     "user_tz": -60
    },
    "id": "duVVzsxv5e70",
    "outputId": "bd0b52a3-b4b9-47ba-deb0-214666f8978d"
   },
   "outputs": [
    {
     "name": "stdout",
     "output_type": "stream",
     "text": [
      "Collecting tensorflow-addons\n",
      "\u001b[?25l  Downloading https://files.pythonhosted.org/packages/66/4b/e893d194e626c24b3df2253066aa418f46a432fdb68250cde14bf9bb0700/tensorflow_addons-0.13.0-cp37-cp37m-manylinux2010_x86_64.whl (679kB)\n",
      "\u001b[K     |████████████████████████████████| 686kB 4.0MB/s \n",
      "\u001b[?25hRequirement already satisfied: typeguard>=2.7 in /usr/local/lib/python3.7/dist-packages (from tensorflow-addons) (2.7.1)\n",
      "Installing collected packages: tensorflow-addons\n",
      "Successfully installed tensorflow-addons-0.13.0\n"
     ]
    }
   ],
   "source": [
    "!pip install tensorflow-addons\n",
    "!pip install -q -U keras-tuner"
   ]
  },
  {
   "cell_type": "code",
   "execution_count": null,
   "metadata": {
    "id": "hUQClftG31Uh"
   },
   "outputs": [],
   "source": [
    "import pandas as pd\n",
    "import numpy as np\n",
    "import random as rn\n",
    "%matplotlib inline\n",
    "from matplotlib import pyplot as plt\n",
    "import seaborn as sns\n",
    "import sklearn\n",
    "import warnings\n",
    "import tensorflow as tf\n",
    "import tensorflow.keras as keras\n",
    "import tensorflow_addons as tfa\n",
    "from sklearn import svm\n",
    "import kerastuner as kt\n",
    "from sklearn.metrics import classification_report, confusion_matrix\n",
    "from sklearn.linear_model import LogisticRegression\n",
    "from sklearn.tree import DecisionTreeClassifier\n",
    "from sklearn import metrics\n",
    "from sklearn.metrics import accuracy_score, roc_auc_score, plot_confusion_matrix, roc_curve, classification_report, confusion_matrix\n",
    "from sklearn.metrics import confusion_matrix, precision_score, recall_score, auc, f1_score, average_precision_score\n",
    "from sklearn.naive_bayes import GaussianNB\n",
    "from sklearn.metrics import roc_auc_score\n",
    "\n",
    "\n",
    "warnings.filterwarnings('ignore')"
   ]
  },
  {
   "cell_type": "code",
   "execution_count": null,
   "metadata": {
    "id": "p-CJdGL0t2_r"
   },
   "outputs": [],
   "source": [
    "#Loading data\n",
    "train_data = np.load('input_data/rain_train.npy')\n",
    "test_data = np.load('input_data/rain_test.npy')\n",
    "\n",
    "#Further splitting train_data into training and validation set\n",
    "train_train_data = np.load('input_data/rain_train_train.npy')\n",
    "train_val_data = np.load('input_data/rain_train_val.npy')"
   ]
  },
  {
   "cell_type": "code",
   "execution_count": null,
   "metadata": {
    "id": "NwGj3kJ78Lj5"
   },
   "outputs": [],
   "source": [
    "X_train = train_data[:,:-1]\n",
    "y_train = np.reshape(train_data[:,-1], (181732,1))\n",
    "X_test = test_data[:,:-1]\n",
    "y_test = test_data[:,-1]\n",
    "\n",
    "X_train_train = train_train_data[:,:-1]\n",
    "y_train_train = np.reshape(train_train_data[:,-1], (145384,1))\n",
    "X_train_val = train_val_data[:,:-1]\n",
    "y_train_val = np.reshape(train_val_data[:,-1], (23274,1))"
   ]
  },
  {
   "cell_type": "markdown",
   "metadata": {
    "id": "CKESvC464ADB"
   },
   "source": [
    "Base Model: Logistic Regression"
   ]
  },
  {
   "cell_type": "code",
   "execution_count": null,
   "metadata": {
    "id": "QPU97iwv3_rI"
   },
   "outputs": [],
   "source": [
    "nb = GaussianNB().fit(X_train, y_train)"
   ]
  },
  {
   "cell_type": "markdown",
   "metadata": {
    "id": "J2REuvxggO-L"
   },
   "source": [
    "### Model: SVM\n",
    "\n",
    "\n"
   ]
  },
  {
   "cell_type": "code",
   "execution_count": null,
   "metadata": {
    "id": "dCJkyOnp6Sl6"
   },
   "outputs": [],
   "source": [
    "svmclassifier = svm.SVC()"
   ]
  },
  {
   "cell_type": "code",
   "execution_count": null,
   "metadata": {
    "id": "qWYSVii76Wj9"
   },
   "outputs": [],
   "source": [
    "svmclassifier.fit(X_train, y_train)\n",
    "predicted = svmclassifier.predict(X_test)"
   ]
  },
  {
   "cell_type": "code",
   "execution_count": null,
   "metadata": {
    "id": "mc-S9RRZ6anD"
   },
   "outputs": [],
   "source": [
    "#printing the classification report\n",
    "print(\"Classification report for classifier %s:\\n%s\\n\"\n",
    "      % (svmclassifier, metrics.classification_report(y_test, predicted)))\n",
    "\n",
    "#plotting the confusion matrix\n",
    "svm_matx = metrics.plot_confusion_matrix(svmclassifier, X_test, y_test)\n",
    "svm_matx.figure_.suptitle(\"Confusion Matrix\")\n",
    "print(\"Confusion matrix:\\n%s\" % svm_matx.confusion_matrix)\n",
    "plt.show()"
   ]
  },
  {
   "cell_type": "markdown",
   "metadata": {
    "id": "0kpaFnZ26f9-"
   },
   "source": [
    "#### SVM hyper-parameter tuning\n",
    "only 3 values for C, gamma are taken into consideration for hyperparameter tuning as due to lack of computing power as the datset is very large."
   ]
  },
  {
   "cell_type": "code",
   "execution_count": null,
   "metadata": {
    "id": "lXOps1Qj6dzE"
   },
   "outputs": [],
   "source": [
    "from sklearn.model_selection import RandomizedSearchCV\n",
    "#defining the parameters for tuning\n",
    "param_grid = {'C': [0.1, 1, 10], \n",
    "              'gamma': [1, 0.1, 0.01],\n",
    "              'kernel': ['rbf']} \n",
    "  \n",
    "grid = RandomizedSearchCV(svm.SVC(), param_grid, refit = True, verbose = 1)\n",
    "  \n",
    "# fitting the model for grid search\n",
    "grid.fit(X_train, y_train)\n",
    "\n",
    "# print best parameter after tuning\n",
    "print('The best hyper-parameters for SVM: \\n',grid.best_params_)"
   ]
  },
  {
   "cell_type": "markdown",
   "metadata": {
    "id": "fQi7iP4iapnd"
   },
   "source": [
    "The best hyper parameters using RandomizedSearchCV by fitting 5 folds for each of 9 candidates, totalling 45 fits are 'C': 100, 'gamma': 0.01, 'kernel': 'rbf' "
   ]
  },
  {
   "cell_type": "code",
   "execution_count": null,
   "metadata": {
    "colab": {
     "base_uri": "https://localhost:8080/",
     "height": 563
    },
    "executionInfo": {
     "elapsed": 708,
     "status": "ok",
     "timestamp": 1622624693706,
     "user": {
      "displayName": "Arjun Krishnan",
      "photoUrl": "https://lh3.googleusercontent.com/a-/AOh14GhQNmotMHCst0jq-qX0CFQolwoARv8LDp_HItZRew=s64",
      "userId": "13890362268232804704"
     },
     "user_tz": -60
    },
    "id": "V1Rdy0C56pG8",
    "outputId": "2c42d2aa-9517-46a9-c261-953cb45f01b4"
   },
   "outputs": [
    {
     "name": "stdout",
     "output_type": "stream",
     "text": [
      "Testing Accuracy = 0.7399972501031211\n",
      "ROC Area under Curve for SVM = 0.7243144738174482\n",
      "Classification Report: \n",
      "               precision    recall  f1-score   support\n",
      "\n",
      "         0.0       0.90      0.75      0.82     22780\n",
      "         1.0       0.44      0.70      0.54      6312\n",
      "\n",
      "    accuracy                           0.74     29092\n",
      "   macro avg       0.67      0.72      0.68     29092\n",
      "weighted avg       0.80      0.74      0.76     29092\n",
      "\n",
      "Confusion matrix:\n",
      "[[17131  5649]\n",
      " [ 1915  4397]]\n"
     ]
    },
    {
     "data": {
      "image/png": "[encoded data removed]",
      "text/plain": [
       "<Figure size 432x288 with 2 Axes>"
      ]
     },
     "metadata": {
      "needs_background": "light",
      "tags": []
     },
     "output_type": "display_data"
    }
   ],
   "source": [
    "#fitting the model with the best hyperparameters\n",
    "#WARNING:the svm model takes 14+ hours to complete running\n",
    "svm_tuned = svm.SVC(C= 100,gamma= 0.01,kernel= 'rbf', probability=True)\n",
    "svm_tuned.fit(X_train,y_train)\n",
    "\n",
    "#model predictions\n",
    "y_pred = svm_tuned.predict(X_test)\n",
    "\n",
    "#Printing the accuracy for SVM\n",
    "acc_svm = accuracy_score(y_test, y_pred)\n",
    "print(\"Testing Accuracy = {}\".format(acc_svm))\n",
    "\n",
    "#Printing the AUC for SVM\n",
    "roc_auc_svm = metrics.roc_auc_score(y_test,y_pred)\n",
    "print(\"ROC Area under Curve for SVM = {}\".format(roc_auc_svm))\n",
    "\n",
    "#printing classification report\n",
    "SVMreport = metrics.classification_report(y_test,y_pred)\n",
    "print('Classification Report: \\n', SVMreport)\n",
    "\n",
    "#printing the confusion matrix\n",
    "disp = metrics.plot_confusion_matrix(svm_tuned, X_test, y_test)\n",
    "disp.figure_.suptitle(\"Confusion Matrix\")\n",
    "print(\"Confusion matrix:\\n%s\" % disp.confusion_matrix)\n",
    "plt.show()\n",
    "\n"
   ]
  },
  {
   "cell_type": "markdown",
   "metadata": {
    "id": "cPYnkZ8u31U1"
   },
   "source": [
    "### Model: Decision Tree\n",
    "\n"
   ]
  },
  {
   "cell_type": "code",
   "execution_count": null,
   "metadata": {
    "id": "gmnCL4Cf31U1"
   },
   "outputs": [],
   "source": [
    "Dtree = DecisionTreeClassifier(random_state=20, ccp_alpha = 0.015)\n",
    "Dtree = Dtree.fit(X_train,y_train)"
   ]
  },
  {
   "cell_type": "code",
   "execution_count": null,
   "metadata": {
    "colab": {
     "base_uri": "https://localhost:8080/"
    },
    "executionInfo": {
     "elapsed": 3,
     "status": "ok",
     "timestamp": 1622623794602,
     "user": {
      "displayName": "Arjun Krishnan",
      "photoUrl": "https://lh3.googleusercontent.com/a-/AOh14GhQNmotMHCst0jq-qX0CFQolwoARv8LDp_HItZRew=s64",
      "userId": "13890362268232804704"
     },
     "user_tz": -60
    },
    "id": "o5J9TRmV31U2",
    "outputId": "b20fd8e7-6372-413e-e930-5b5068d810fa"
   },
   "outputs": [
    {
     "name": "stdout",
     "output_type": "stream",
     "text": [
      "Accuracy Score: 0.38776983363123885\n"
     ]
    }
   ],
   "source": [
    "# Prediction on the test data\n",
    "y_pred = Dtree.predict(X_test)\n",
    "\n",
    "# Accuracy score of the test data\n",
    "\n",
    "print('Accuracy Score:', metrics.accuracy_score(y_test,y_pred))"
   ]
  },
  {
   "cell_type": "code",
   "execution_count": null,
   "metadata": {
    "colab": {
     "base_uri": "https://localhost:8080/",
     "height": 614
    },
    "executionInfo": {
     "elapsed": 667,
     "status": "ok",
     "timestamp": 1622623797573,
     "user": {
      "displayName": "Arjun Krishnan",
      "photoUrl": "https://lh3.googleusercontent.com/a-/AOh14GhQNmotMHCst0jq-qX0CFQolwoARv8LDp_HItZRew=s64",
      "userId": "13890362268232804704"
     },
     "user_tz": -60
    },
    "id": "w1NOiLRrh7_y",
    "outputId": "f86879d3-98f5-42a0-d82d-b74ba0a1ce2b"
   },
   "outputs": [
    {
     "name": "stdout",
     "output_type": "stream",
     "text": [
      "Checking different metrics for decision tree model with default hyper parameters:\n",
      "\n",
      "Training accuracy:  0.7341359804547355\n",
      "Accuracy = 0.38776983363123885\n",
      "ROC Area under Curve = 0.7339535790906795\n",
      "Classification Report: \n",
      "               precision    recall  f1-score   support\n",
      "\n",
      "         0.0       0.93      0.24      0.38     22780\n",
      "         1.0       0.25      0.93      0.40      6312\n",
      "\n",
      "    accuracy                           0.39     29092\n",
      "   macro avg       0.59      0.58      0.39     29092\n",
      "weighted avg       0.78      0.39      0.38     29092\n",
      "\n",
      "Confusion matrix:\n",
      "[[ 5396 17384]\n",
      " [  427  5885]]\n"
     ]
    },
    {
     "data": {
      "image/png": "[encoded data removed]",
      "text/plain": [
       "<Figure size 432x288 with 2 Axes>"
      ]
     },
     "metadata": {
      "needs_background": "light",
      "tags": []
     },
     "output_type": "display_data"
    }
   ],
   "source": [
    "# Checking different metrics for decision tree model with default hyper parameters\n",
    "\n",
    "print('Checking different metrics for decision tree model with default hyper parameters:\\n')\n",
    "\n",
    "print(\"Training accuracy: \", Dtree.score(X_train,y_train))\n",
    "\n",
    "acc = accuracy_score(y_test, y_pred)\n",
    "print(\"Accuracy = {}\".format(acc))\n",
    "\n",
    "roc_auc = roc_auc_score(y_test, Dtree.predict_proba(X_test)[:, 1])\n",
    "print(\"ROC Area under Curve = {}\".format(roc_auc))\n",
    "\n",
    "class_report = classification_report(y_test,y_pred)\n",
    "print('Classification Report: \\n', class_report)\n",
    "\n",
    "cm_plt = metrics.plot_confusion_matrix(Dtree, X_test, y_test, cmap=plt.cm.Blues)\n",
    "cm_plt.figure_.suptitle(\"Confusion Matrix\")\n",
    "print(\"Confusion matrix:\\n%s\" % cm_plt.confusion_matrix)\n",
    "plt.show()"
   ]
  },
  {
   "cell_type": "markdown",
   "metadata": {
    "id": "7qs2GiYDg-nj"
   },
   "source": [
    "#### Decision Tree : Hyper parameter tuning - Grid Search"
   ]
  },
  {
   "cell_type": "code",
   "execution_count": null,
   "metadata": {
    "id": "g7N5oP8Ah8Xw"
   },
   "outputs": [],
   "source": [
    "from sklearn.model_selection import GridSearchCV\n",
    "\n",
    "# Set values for each parameters\n",
    "\n",
    "max_depth = [5, 10, 15, 25, 30, 35, 40, 45, 50]\n",
    "min_samples_split = [2, 5, 10, 15, 100]\n",
    "min_samples_leaf = [1, 2, 5, 10, 15, 20, 25, 30]\n",
    "max_features = [1, 2, 5, 10, 15, 20, 25, 30]\n",
    "max_leaf_nodes = [2, 5, 10, 15, 20]\n",
    "\n",
    "# Creating a dictionary for the hyper parameters\n",
    "\n",
    "param_grid = dict(max_depth = max_depth, min_samples_split = min_samples_split, \n",
    "              min_samples_leaf = min_samples_leaf, max_features = max_features, max_leaf_nodes = max_leaf_nodes)\n",
    "\n",
    "\n",
    "# Applying GridSearchCV to get the best value for hyperparameters\n",
    "\n",
    "grid_search = GridSearchCV(Dtree, param_grid, cv = 5, verbose = 1, n_jobs = -1)\n",
    "best_grid = grid_search.fit(X_train, y_train)\n",
    "\n",
    "# Printing the best hyper parameters\n",
    "\n",
    "print('The best hyper parameters are: \\n', grid_search.best_params_)"
   ]
  },
  {
   "cell_type": "markdown",
   "metadata": {
    "id": "P6tGQRBM2VX3"
   },
   "source": [
    "**Best Parameters:**\n",
    "\n",
    "Fitting 5 folds for each of 14400 candidates, totalling 72000 fits\n",
    "\n",
    "The best hyper parameters are: \n",
    "\n",
    "{'max_depth': 35, 'max_features': 30, 'max_leaf_nodes': 20, 'min_samples_leaf': 15, 'min_samples_split': 15}"
   ]
  },
  {
   "cell_type": "code",
   "execution_count": null,
   "metadata": {
    "id": "8sVfmH4lh8j_"
   },
   "outputs": [],
   "source": [
    "# Fitting the decision tree model with the best hyper parameters obtained through GridSearchCV\n",
    "\n",
    "Dtree_grid_tuned = DecisionTreeClassifier(random_state = 20, ccp_alpha = 0.015, criterion ='entropy', splitter = 'random', max_depth = 35, min_samples_leaf = 15, min_samples_split = 15, max_features = 30, max_leaf_nodes = 20)\n",
    "Dtree_grid_tuned.fit(X_train,y_train)\n",
    "y_pred1 = Dtree_grid_tuned.predict(X_test)"
   ]
  },
  {
   "cell_type": "code",
   "execution_count": null,
   "metadata": {
    "colab": {
     "base_uri": "https://localhost:8080/",
     "height": 614
    },
    "executionInfo": {
     "elapsed": 497,
     "status": "ok",
     "timestamp": 1622623804967,
     "user": {
      "displayName": "Arjun Krishnan",
      "photoUrl": "https://lh3.googleusercontent.com/a-/AOh14GhQNmotMHCst0jq-qX0CFQolwoARv8LDp_HItZRew=s64",
      "userId": "13890362268232804704"
     },
     "user_tz": -60
    },
    "id": "o1eslGvSh8m6",
    "outputId": "44e044a1-331c-421b-a371-f4a52fb16c96"
   },
   "outputs": [
    {
     "name": "stdout",
     "output_type": "stream",
     "text": [
      "Checking different metrics for decision tree model after tuning with the GridSearchCV hyper parameters:\n",
      "\n",
      "Training accuracy:  0.7195540686285299\n",
      "Accuracy = 0.7559122782895641\n",
      "ROC Area under Curve = 0.752328577421548\n",
      "Classification Report: \n",
      "               precision    recall  f1-score   support\n",
      "\n",
      "         0.0       0.89      0.78      0.83     22780\n",
      "         1.0       0.46      0.66      0.54      6312\n",
      "\n",
      "    accuracy                           0.76     29092\n",
      "   macro avg       0.67      0.72      0.69     29092\n",
      "weighted avg       0.80      0.76      0.77     29092\n",
      "\n",
      "Confusion matrix:\n",
      "[[17855  4925]\n",
      " [ 2176  4136]]\n"
     ]
    },
    {
     "data": {
      "image/png": "[encoded data removed]",
      "text/plain": [
       "<Figure size 432x288 with 2 Axes>"
      ]
     },
     "metadata": {
      "needs_background": "light",
      "tags": []
     },
     "output_type": "display_data"
    }
   ],
   "source": [
    "# Checking different metrics for decision tree model with GridSearchCV hyper parameters\n",
    "\n",
    "print('Checking different metrics for decision tree model after tuning with the GridSearchCV hyper parameters:\\n')\n",
    "\n",
    "print(\"Training accuracy: \", Dtree_grid_tuned.score(X_train,y_train))\n",
    "\n",
    "acc = accuracy_score(y_test, y_pred1)\n",
    "print(\"Accuracy = {}\".format(acc))\n",
    "\n",
    "roc_auc = roc_auc_score(y_test, Dtree_grid_tuned.predict_proba(X_test)[:, 1])\n",
    "print(\"ROC Area under Curve = {}\".format(roc_auc))\n",
    "\n",
    "class_report = classification_report(y_test, y_pred1)\n",
    "print('Classification Report: \\n', class_report)\n",
    "\n",
    "cm_plt = metrics.plot_confusion_matrix(Dtree_grid_tuned, X_test, y_test, cmap=plt.cm.Blues)\n",
    "cm_plt.figure_.suptitle(\"Confusion Matrix\")\n",
    "print(\"Confusion matrix:\\n%s\" % cm_plt.confusion_matrix)\n",
    "plt.show()\n"
   ]
  },
  {
   "cell_type": "markdown",
   "metadata": {
    "id": "ophaiGh_hXdL"
   },
   "source": [
    "#### Decision Tree: Hyper parameter tuning - Random Search"
   ]
  },
  {
   "cell_type": "code",
   "execution_count": null,
   "metadata": {
    "id": "dZ4ySq82hgw6"
   },
   "outputs": [],
   "source": [
    "from sklearn.model_selection import RandomizedSearchCV\n",
    "\n",
    "# Set values for each parameters\n",
    "\n",
    "max_depth = [5, 10, 15, 25, 30, 35, 40, 45, 50]\n",
    "min_samples_split = [2, 5, 10, 15, 100]\n",
    "min_samples_leaf = [1, 2, 5, 10, 15, 20, 25, 30]\n",
    "max_features = [1, 2, 5, 10, 15, 20, 25, 30]\n",
    "max_leaf_nodes = [2, 5, 10, 15, 20]\n",
    "\n",
    "# Creating a dictionary for the hyper parameters\n",
    "\n",
    "param_grid = dict(max_depth = max_depth, min_samples_split = min_samples_split, \n",
    "              min_samples_leaf = min_samples_leaf, max_features = max_features, max_leaf_nodes = max_leaf_nodes)\n",
    "\n",
    "# Applying RandomizedSearchCV to get the best value for hyperparameters\n",
    "\n",
    "rand_search = RandomizedSearchCV(Dtree, param_grid, cv = 5, verbose = 1, n_jobs = -1)\n",
    "best_grid = rand_search.fit(X_train, y_train)\n",
    "\n",
    "# Printing the best hyper parameters\n",
    "\n",
    "print('The best hyper parameters are: \\n', rand_search.best_params_)"
   ]
  },
  {
   "cell_type": "markdown",
   "metadata": {
    "id": "5GtO7WDAhk4E"
   },
   "source": [
    "**Best Parameters:**\n",
    "\n",
    "Fitting 5 folds for each of 10 candidates, totalling 50 fits\n",
    "\n",
    "The best hyper parameters are: \n",
    "\n",
    "{'min_samples_split': 2, 'min_samples_leaf': 30, 'max_leaf_nodes': 10, 'max_features': 20, 'max_depth': 30}"
   ]
  },
  {
   "cell_type": "code",
   "execution_count": null,
   "metadata": {
    "id": "8xwff-FVhwv6"
   },
   "outputs": [],
   "source": [
    "# Fitting the decision tree model with the best hyper parameters obtained through RandomizedSearchCV\n",
    "\n",
    "Dtree_rand_tuned = DecisionTreeClassifier(random_state = 20, ccp_alpha = 0.015, criterion = 'entropy', splitter = 'random', max_depth = 30, min_samples_leaf = 30, min_samples_split = 2, max_features = 20, max_leaf_nodes = 10)\n",
    "Dtree_rand_tuned.fit(X_train,y_train)\n",
    "y_pred2 = Dtree_rand_tuned.predict(X_test)"
   ]
  },
  {
   "cell_type": "code",
   "execution_count": null,
   "metadata": {
    "colab": {
     "base_uri": "https://localhost:8080/",
     "height": 614
    },
    "executionInfo": {
     "elapsed": 496,
     "status": "ok",
     "timestamp": 1622623814879,
     "user": {
      "displayName": "Arjun Krishnan",
      "photoUrl": "https://lh3.googleusercontent.com/a-/AOh14GhQNmotMHCst0jq-qX0CFQolwoARv8LDp_HItZRew=s64",
      "userId": "13890362268232804704"
     },
     "user_tz": -60
    },
    "id": "898BVpoxhwxV",
    "outputId": "d0730f7d-9e1b-4614-edf2-8500b60c7adf"
   },
   "outputs": [
    {
     "name": "stdout",
     "output_type": "stream",
     "text": [
      "Checking different metrics for decision tree model after tuning with the RandomizedSearchCV hyper parameters:\n",
      "\n",
      "Training accuracy:  0.7205830563687188\n",
      "Accuracy = 0.7139763508868417\n",
      "ROC Area under Curve = 0.7505148679271948\n",
      "Classification Report: \n",
      "               precision    recall  f1-score   support\n",
      "\n",
      "         0.0       0.91      0.71      0.79     22780\n",
      "         1.0       0.41      0.74      0.53      6312\n",
      "\n",
      "    accuracy                           0.71     29092\n",
      "   macro avg       0.66      0.72      0.66     29092\n",
      "weighted avg       0.80      0.71      0.74     29092\n",
      "\n",
      "Confusion matrix:\n",
      "[[16123  6657]\n",
      " [ 1664  4648]]\n"
     ]
    },
    {
     "data": {
      "image/png": "[encoded data removed]",
      "text/plain": [
       "<Figure size 432x288 with 2 Axes>"
      ]
     },
     "metadata": {
      "needs_background": "light",
      "tags": []
     },
     "output_type": "display_data"
    }
   ],
   "source": [
    "# Checking different metrics for decision tree model with RandomizedSearchCV hyper parameters\n",
    "\n",
    "print('Checking different metrics for decision tree model after tuning with the RandomizedSearchCV hyper parameters:\\n')\n",
    "\n",
    "print(\"Training accuracy: \", Dtree_rand_tuned.score(X_train,y_train))\n",
    "\n",
    "acc = accuracy_score(y_test, y_pred2)\n",
    "print(\"Accuracy = {}\".format(acc))\n",
    "\n",
    "roc_auc = roc_auc_score(y_test, Dtree_rand_tuned.predict_proba(X_test)[:, 1])\n",
    "print(\"ROC Area under Curve = {}\".format(roc_auc))\n",
    "\n",
    "class_report = classification_report(y_test, y_pred2)\n",
    "print('Classification Report: \\n', class_report)\n",
    "\n",
    "cm_plt = metrics.plot_confusion_matrix(Dtree_rand_tuned, X_test, y_test, cmap=plt.cm.Blues)\n",
    "cm_plt.figure_.suptitle(\"Confusion Matrix\")\n",
    "print(\"Confusion matrix:\\n%s\" % cm_plt.confusion_matrix)\n",
    "plt.show()"
   ]
  },
  {
   "cell_type": "code",
   "execution_count": null,
   "metadata": {
    "colab": {
     "base_uri": "https://localhost:8080/",
     "height": 547
    },
    "executionInfo": {
     "elapsed": 606,
     "status": "ok",
     "timestamp": 1622623819328,
     "user": {
      "displayName": "Arjun Krishnan",
      "photoUrl": "https://lh3.googleusercontent.com/a-/AOh14GhQNmotMHCst0jq-qX0CFQolwoARv8LDp_HItZRew=s64",
      "userId": "13890362268232804704"
     },
     "user_tz": -60
    },
    "id": "QCvbB7V0h8qY",
    "outputId": "0c329040-fb24-4498-b05a-31381a5a5713"
   },
   "outputs": [
    {
     "name": "stdout",
     "output_type": "stream",
     "text": [
      "ROC AUC curve before and after tuning hyper parameters:\n",
      "\n"
     ]
    },
    {
     "data": {
      "image/png": "[encoded data removed]",
      "text/plain": [
       "<Figure size 576x576 with 1 Axes>"
      ]
     },
     "metadata": {
      "needs_background": "light",
      "tags": []
     },
     "output_type": "display_data"
    }
   ],
   "source": [
    "from matplotlib import pyplot as plt\n",
    "\n",
    "# Plotting the ROC AUC curve before and after tuning hyper parameters\n",
    "\n",
    "print('ROC AUC curve before and after tuning hyper parameters:\\n')\n",
    "\n",
    "probs = Dtree.predict_proba(X_test)[:, 1]\n",
    "probs_grid = Dtree_grid_tuned.predict_proba(X_test)[:, 1]\n",
    "probs_rand = Dtree_rand_tuned.predict_proba(X_test)[:, 1]\n",
    "fper, tper, thresholds = roc_curve(y_test, probs) \n",
    "fper1, tper1, thresholds1 = roc_curve(y_test, probs_grid) \n",
    "fper2, tper2, thresholds2 = roc_curve(y_test, probs_rand) \n",
    "\n",
    "plt.figure(figsize=(8, 8))\n",
    "plt.plot(fper, tper, color='orange', label='Without tuning')\n",
    "plt.plot(fper1, tper1, color='green', label='With Grid search tuning')\n",
    "plt.plot(fper2, tper2, color='red', label='With Random search tuning')\n",
    "plt.plot([0, 1], [0, 1], color='darkblue', linestyle='--')\n",
    "plt.xlabel('False Positive Rate')\n",
    "plt.ylabel('True Positive Rate')\n",
    "plt.title('Receiver Operating Characteristic (ROC) Curve')\n",
    "plt.legend()\n",
    "plt.show()"
   ]
  },
  {
   "cell_type": "code",
   "execution_count": null,
   "metadata": {
    "colab": {
     "base_uri": "https://localhost:8080/"
    },
    "id": "9g-1jSxW6FjX",
    "outputId": "69f7ceeb-cc99-4a39-98b1-1f87dbb7ab4c"
   },
   "outputs": [
    {
     "data": {
      "text/plain": [
       "(29092, 118)"
      ]
     },
     "execution_count": 83,
     "metadata": {
      "tags": []
     },
     "output_type": "execute_result"
    }
   ],
   "source": [
    "X_test.shape"
   ]
  },
  {
   "cell_type": "markdown",
   "metadata": {
    "id": "w0H63VU83kId"
   },
   "source": [
    "### Model: DNN"
   ]
  },
  {
   "cell_type": "markdown",
   "metadata": {
    "id": "cKaa_pPRdJXz"
   },
   "source": [
    "#### DNN: Hyperparameter Tuning"
   ]
  },
  {
   "cell_type": "markdown",
   "metadata": {
    "id": "_jz2lJ4Frh94"
   },
   "source": [
    "Neurons in Hidden layer 1 : {20, 30, 40, 50} </br>\n",
    "Neurons in Hidden layer 2 : {10, 20, 30, 40, 50} </br>\n",
    "Dropout rate after Hidden layer 1 : {0.0, 0.1, 0.2, 0.3, 0.4, 0.5} </br>\n",
    "Dropout rate after Hidden layer 2 : {0.0, 0.1, 0.2, 0.3, 0.4, 0.5} </br>\n",
    "L1 regularizer : {1e-4, 1e-5, 1e-6, 1e-7, 1e-8} </br>\n",
    "L2 regularizer : {1e-4, 1e-5, 1e-6, 1e-7, 1e-8} </br>\n",
    "Optimizer: {'Adam', 'Nadam', 'Adamax', 'Adagrad'}"
   ]
  },
  {
   "cell_type": "code",
   "execution_count": null,
   "metadata": {
    "id": "e54460sYVqQw"
   },
   "outputs": [],
   "source": [
    "def create_model(hp):\n",
    "  hp_dropout_rates_1 = hp.Choice('Dropout_rate_1', values=[0.0, 0.1, 0.2, 0.3, 0.4, 0.5])\n",
    "  hp_dropout_rates_2 = hp.Choice('Dropout_rate_2', values=[0.0, 0.1, 0.2, 0.3, 0.4, 0.5])\n",
    "  hp_l1_reg = hp.Choice('L1_penalty', values=[1e-4, 1e-5, 1e-6, 1e-7, 1e-8])\n",
    "  hp_l2_reg = hp.Choice('L2_penalty', values=[1e-4, 1e-5, 1e-6, 1e-7, 1e-8])\n",
    "  hp_hidden_neurons_1 = hp.Choice('hidden_neurons', values=[40, 60, 80, 100])\n",
    "  hp_hidden_neurons_2 = hp.Choice('hidden_neurons', values=[40, 60, 80, 100])\n",
    "\n",
    "  model = keras.Sequential([\n",
    "      keras.layers.Dense(118, activation='relu', input_dim=118),\n",
    "      keras.layers.Dense(hp_hidden_neurons_1, activation='relu', kernel_regularizer=keras.regularizers.l1_l2(l1=hp_l1_reg, l2=hp_l2_reg)),\n",
    "      keras.layers.Dropout(rate=hp_dropout_rates_1),\n",
    "      keras.layers.Dense(hp_hidden_neurons_2, activation='relu', kernel_regularizer=keras.regularizers.l1_l2(l1=hp_l1_reg, l2=hp_l2_reg)),\n",
    "      keras.layers.Dropout(rate=hp_dropout_rates_2),\n",
    "      keras.layers.Dense(1)\n",
    "  ])\n",
    "\n",
    "  hp_optimizer = hp.Choice('Optimizer', values=['Adam', 'Nadam', 'Adamax', 'Adagrad'])\n",
    "\n",
    "  model.compile(optimizer=hp_optimizer,\n",
    "                loss=keras.losses.BinaryCrossentropy(from_logits=True),\n",
    "                metrics=[tfa.metrics.F1Score(num_classes=1, average='macro', name='macro_f1'),\n",
    "                         keras.metrics.BinaryAccuracy()])\n",
    "  \n",
    "  return model"
   ]
  },
  {
   "cell_type": "code",
   "execution_count": null,
   "metadata": {
    "id": "L-E-IHwKWwy7"
   },
   "outputs": [],
   "source": [
    "tuner = kt.Hyperband(create_model,\n",
    "                     objective=kt.Objective(\"val_macro_f1\", direction=\"max\"),\n",
    "                     max_epochs=10,\n",
    "                     factor=3)\n",
    "stop_early = tf.keras.callbacks.EarlyStopping(monitor=\"val_macro_f1\", patience=2)"
   ]
  },
  {
   "cell_type": "code",
   "execution_count": null,
   "metadata": {
    "id": "mv4BeRvUWys_"
   },
   "outputs": [],
   "source": [
    "tuner.search(x=X_train_train, \n",
    "             y=y_train_train, \n",
    "             validation_data=(X_train_val, y_train_val), \n",
    "             callbacks=[stop_early])"
   ]
  },
  {
   "cell_type": "code",
   "execution_count": null,
   "metadata": {
    "colab": {
     "base_uri": "https://localhost:8080/"
    },
    "executionInfo": {
     "elapsed": 586,
     "status": "ok",
     "timestamp": 1622573613971,
     "user": {
      "displayName": "Fan Yam Tsang",
      "photoUrl": "https://lh3.googleusercontent.com/a-/AOh14GhqsreTR8xuJ_RYX8Ry0bwIpzd0j-yDwFPhdvONBQ=s64",
      "userId": "14707262602926426667"
     },
     "user_tz": -60
    },
    "id": "RpccM5wu6f3r",
    "outputId": "9522db55-d294-486b-ffe3-ccd784601e2f"
   },
   "outputs": [
    {
     "name": "stdout",
     "output_type": "stream",
     "text": [
      "best Dropout_rate_1 :  0.0\n",
      "best Dropout_rate_2 :  0.2\n",
      "best L1_penalty :  1e-08\n",
      "best L2_penalty :  1e-07\n",
      "best hidden_neurons_1 :  80\n",
      "best hidden_neurons_2 :  40\n",
      "best Optimizer :  Adam\n",
      "best tuner/epochs :  2\n",
      "best tuner/initial_epoch :  0\n",
      "best tuner/bracket :  6\n",
      "best tuner/round :  0\n"
     ]
    }
   ],
   "source": [
    "# Get the optimal hyperparameters\n",
    "best_hps=tuner.get_best_hyperparameters(num_trials=1)[0]\n",
    "for key in best_hps.values:\n",
    "  print('best', key, ': ', best_hps.values[key])"
   ]
  },
  {
   "cell_type": "markdown",
   "metadata": {
    "id": "ibMw-NmMdP9G"
   },
   "source": [
    "#### DNN: Best Model"
   ]
  },
  {
   "cell_type": "code",
   "execution_count": null,
   "metadata": {
    "id": "10QMVL1mvXAm"
   },
   "outputs": [],
   "source": [
    "def create_model():\n",
    "  # Define the structure of the model\n",
    "  model = keras.Sequential([\n",
    "      # FC layers\n",
    "      keras.layers.Dense(118, activation='relu', input_dim=118),\n",
    "      keras.layers.Dropout(rate=0.0),\n",
    "      keras.layers.Dense(80, activation='relu', kernel_regularizer=keras.regularizers.l1_l2(l1=1e-8, l2=1e-7)),\n",
    "      keras.layers.Dense(40, activation='relu', kernel_regularizer=keras.regularizers.l1_l2(l1=1e-8, l2=1e-7)),\n",
    "      keras.layers.Dropout(rate=0.2),\n",
    "\n",
    "      # Output layer\n",
    "      keras.layers.Dense(1, activation='sigmoid')\n",
    "  ], name = \"DNN_model\")\n",
    "\n",
    "  # Assigning optimizer, loss function and evaluation metrices\n",
    "  model.compile(optimizer=keras.optimizers.Adam(learning_rate=0.001),\n",
    "                loss=keras.losses.BinaryCrossentropy(from_logits=True),\n",
    "                metrics=[tf.metrics.BinaryAccuracy(),\n",
    "                         tfa.metrics.F1Score(num_classes=1, average='macro', name='macro_f1')])\n",
    "  \n",
    "  return model"
   ]
  },
  {
   "cell_type": "code",
   "execution_count": null,
   "metadata": {
    "colab": {
     "base_uri": "https://localhost:8080/"
    },
    "executionInfo": {
     "elapsed": 519,
     "status": "ok",
     "timestamp": 1622625086555,
     "user": {
      "displayName": "Fan Yam Tsang",
      "photoUrl": "https://lh3.googleusercontent.com/a-/AOh14GhqsreTR8xuJ_RYX8Ry0bwIpzd0j-yDwFPhdvONBQ=s64",
      "userId": "14707262602926426667"
     },
     "user_tz": -60
    },
    "id": "osiHHoLxvXAm",
    "outputId": "8e4d8cbb-211c-4cff-d7df-e4f80c8ddf78"
   },
   "outputs": [
    {
     "name": "stdout",
     "output_type": "stream",
     "text": [
      "Model: \"DNN_model\"\n",
      "_________________________________________________________________\n",
      "Layer (type)                 Output Shape              Param #   \n",
      "=================================================================\n",
      "dense (Dense)                (None, 118)               14042     \n",
      "_________________________________________________________________\n",
      "dropout (Dropout)            (None, 118)               0         \n",
      "_________________________________________________________________\n",
      "dense_1 (Dense)              (None, 80)                9520      \n",
      "_________________________________________________________________\n",
      "dense_2 (Dense)              (None, 40)                3240      \n",
      "_________________________________________________________________\n",
      "dropout_1 (Dropout)          (None, 40)                0         \n",
      "_________________________________________________________________\n",
      "dense_3 (Dense)              (None, 1)                 41        \n",
      "=================================================================\n",
      "Total params: 26,843\n",
      "Trainable params: 26,843\n",
      "Non-trainable params: 0\n",
      "_________________________________________________________________\n"
     ]
    }
   ],
   "source": [
    "tf.random.set_seed(3)\n",
    "rn.seed(3)\n",
    "dnn = create_model()\n",
    "dnn.summary()"
   ]
  },
  {
   "cell_type": "code",
   "execution_count": null,
   "metadata": {
    "colab": {
     "base_uri": "https://localhost:8080/"
    },
    "executionInfo": {
     "elapsed": 296252,
     "status": "ok",
     "timestamp": 1622625387408,
     "user": {
      "displayName": "Fan Yam Tsang",
      "photoUrl": "https://lh3.googleusercontent.com/a-/AOh14GhqsreTR8xuJ_RYX8Ry0bwIpzd0j-yDwFPhdvONBQ=s64",
      "userId": "14707262602926426667"
     },
     "user_tz": -60
    },
    "id": "kIv-9qcAvXAm",
    "outputId": "a5c3a0c8-73f6-4fc2-c5c7-b007fc88d314"
   },
   "outputs": [
    {
     "data": {
      "text/plain": [
       "<tensorflow.python.keras.callbacks.History at 0x7fa5085d3b10>"
      ]
     },
     "execution_count": 18,
     "metadata": {
      "tags": []
     },
     "output_type": "execute_result"
    }
   ],
   "source": [
    "# Parameters\n",
    "epochs = 30\n",
    "\n",
    "# Training the model\n",
    "dnn.fit(X_train, \n",
    "        y_train, \n",
    "        epochs = epochs,\n",
    "        verbose = 0,\n",
    "        validation_data = (X_test, y_test))"
   ]
  },
  {
   "cell_type": "code",
   "execution_count": null,
   "metadata": {
    "colab": {
     "base_uri": "https://localhost:8080/"
    },
    "executionInfo": {
     "elapsed": 5986,
     "status": "ok",
     "timestamp": 1622624566097,
     "user": {
      "displayName": "Arjun Krishnan",
      "photoUrl": "https://lh3.googleusercontent.com/a-/AOh14GhQNmotMHCst0jq-qX0CFQolwoARv8LDp_HItZRew=s64",
      "userId": "13890362268232804704"
     },
     "user_tz": -60
    },
    "id": "5rQjdMrSvXAn",
    "outputId": "f77447b4-29ed-4732-a51e-da0e11d3ca5d"
   },
   "outputs": [
    {
     "name": "stdout",
     "output_type": "stream",
     "text": [
      "[[89721  1145]\n",
      " [90177   689]]\n",
      "              precision    recall  f1-score   support\n",
      "\n",
      "         0.0       0.50      0.99      0.66     90866\n",
      "         1.0       0.38      0.01      0.01     90866\n",
      "\n",
      "    accuracy                           0.50    181732\n",
      "   macro avg       0.44      0.50      0.34    181732\n",
      "weighted avg       0.44      0.50      0.34    181732\n",
      "\n"
     ]
    }
   ],
   "source": [
    "# Results with training data\n",
    "y_pred_train = [[round(num) for num in row] for row in dnn.predict(X_train)]\n",
    "print(confusion_matrix(y_train, y_pred_train))\n",
    "print(classification_report(y_train, y_pred_train))"
   ]
  },
  {
   "cell_type": "code",
   "execution_count": null,
   "metadata": {
    "colab": {
     "base_uri": "https://localhost:8080/"
    },
    "executionInfo": {
     "elapsed": 1146,
     "status": "ok",
     "timestamp": 1622624572042,
     "user": {
      "displayName": "Arjun Krishnan",
      "photoUrl": "https://lh3.googleusercontent.com/a-/AOh14GhQNmotMHCst0jq-qX0CFQolwoARv8LDp_HItZRew=s64",
      "userId": "13890362268232804704"
     },
     "user_tz": -60
    },
    "id": "rYLtLzY9vXAn",
    "outputId": "a40a6121-8a9f-4d57-a3fb-656e480e7c00"
   },
   "outputs": [
    {
     "name": "stdout",
     "output_type": "stream",
     "text": [
      "[[22518   262]\n",
      " [ 6259    53]]\n",
      "              precision    recall  f1-score   support\n",
      "\n",
      "         0.0       0.78      0.99      0.87     22780\n",
      "         1.0       0.17      0.01      0.02      6312\n",
      "\n",
      "    accuracy                           0.78     29092\n",
      "   macro avg       0.48      0.50      0.44     29092\n",
      "weighted avg       0.65      0.78      0.69     29092\n",
      "\n"
     ]
    }
   ],
   "source": [
    "# Results with testing data\n",
    "y_pred = [[round(num) for num in row] for row in dnn.predict(X_test)]\n",
    "print(confusion_matrix(y_test, y_pred))\n",
    "print(classification_report(y_test, y_pred))"
   ]
  },
  {
   "cell_type": "markdown",
   "metadata": {
    "id": "spZBmZqd2c-F"
   },
   "source": [
    "### Experiment 2: Comparing algorithms' performances in datasets with different sizes"
   ]
  },
  {
   "cell_type": "code",
   "execution_count": null,
   "metadata": {
    "id": "gQT07asT8Xow"
   },
   "outputs": [],
   "source": [
    "models = [nb, Dtree_grid_tuned, svm_tuned, dnn]\n",
    "model_names = [\"Base model\", \"DT\", \"SVM\", \"DNN\"]"
   ]
  },
  {
   "cell_type": "markdown",
   "metadata": {
    "id": "j7_-em-VbFwA"
   },
   "source": [
    "#### Functions for comparison"
   ]
  },
  {
   "cell_type": "code",
   "execution_count": null,
   "metadata": {
    "id": "86M4TSYEbPqr"
   },
   "outputs": [],
   "source": [
    "def eval_metrics_table(model_list,model_names):\n",
    "    Models_cols = []\n",
    "    Models_compare = pd.DataFrame(columns = Models_cols)\n",
    "    row_index = 0\n",
    "    for i in range(len(models)):\n",
    "        if model_names[i][:3] == \"DNN\":\n",
    "            y_pred = [[round(num) for num in row] for row in model_list[i].predict(X_test)]\n",
    "            y_pred_prob = model_list[i].predict(X_test).ravel()\n",
    "        else:\n",
    "            y_pred = model_list[i].predict(X_test).ravel()\n",
    "            y_pred_prob = model_list[i].predict_proba(X_test)[:,1]\n",
    "    \n",
    "        fpr, tpr, thresh = roc_curve(y_test, y_pred)\n",
    "        Models_name = model_names[i]\n",
    "        Models_compare.loc[row_index,'Model used'] = Models_name\n",
    "        Models_compare.loc[row_index, 'Test Accuracy'] = accuracy_score(y_test, y_pred)\n",
    "        Models_compare.loc[row_index, 'F1 score'] = f1_score(y_test, y_pred, average='macro')\n",
    "        Models_compare.loc[row_index, 'Precision'] = precision_score(y_test, y_pred)\n",
    "        Models_compare.loc[row_index, 'Recall'] = recall_score(y_test, y_pred)\n",
    "        Models_compare.loc[row_index, 'ROC AUC'] = roc_auc_score(y_test, y_pred_prob)\n",
    "        Models_compare.loc[row_index, 'Precision-recall AUC'] = average_precision_score(y_test, y_pred_prob)\n",
    "\n",
    "        row_index+=1\n",
    "    \n",
    "    #Models_compare.sort_values(by = ['F1 score'], ascending = False, inplace = True)  \n",
    "    Models_compare.reset_index(inplace = True, drop=True)  \n",
    "    return Models_compare"
   ]
  },
  {
   "cell_type": "code",
   "execution_count": null,
   "metadata": {
    "colab": {
     "base_uri": "https://localhost:8080/",
     "height": 164
    },
    "executionInfo": {
     "elapsed": 2521,
     "status": "ok",
     "timestamp": 1622626264790,
     "user": {
      "displayName": "Fan Yam Tsang",
      "photoUrl": "https://lh3.googleusercontent.com/a-/AOh14GhqsreTR8xuJ_RYX8Ry0bwIpzd0j-yDwFPhdvONBQ=s64",
      "userId": "14707262602926426667"
     },
     "user_tz": -60
    },
    "id": "kX0RpOO02b-f",
    "outputId": "ee5a4251-c5c6-4f79-a851-f882b6c19f49"
   },
   "outputs": [
    {
     "data": {
      "text/html": [
       "<div>\n",
       "<style scoped>\n",
       "    .dataframe tbody tr th:only-of-type {\n",
       "        vertical-align: middle;\n",
       "    }\n",
       "\n",
       "    .dataframe tbody tr th {\n",
       "        vertical-align: top;\n",
       "    }\n",
       "\n",
       "    .dataframe thead th {\n",
       "        text-align: right;\n",
       "    }\n",
       "</style>\n",
       "<table border=\"1\" class=\"dataframe\">\n",
       "  <thead>\n",
       "    <tr style=\"text-align: right;\">\n",
       "      <th></th>\n",
       "      <th>Model used</th>\n",
       "      <th>Test Accuracy</th>\n",
       "      <th>F1 score</th>\n",
       "      <th>Precision</th>\n",
       "      <th>Recall</th>\n",
       "      <th>ROC AUC</th>\n",
       "      <th>Precision-recall AUC</th>\n",
       "    </tr>\n",
       "  </thead>\n",
       "  <tbody>\n",
       "    <tr>\n",
       "      <th>0</th>\n",
       "      <td>Base model</td>\n",
       "      <td>0.597071</td>\n",
       "      <td>0.564518</td>\n",
       "      <td>0.318905</td>\n",
       "      <td>0.73851</td>\n",
       "      <td>0.708752</td>\n",
       "      <td>0.428837</td>\n",
       "    </tr>\n",
       "    <tr>\n",
       "      <th>1</th>\n",
       "      <td>DT</td>\n",
       "      <td>0.75739</td>\n",
       "      <td>0.68836</td>\n",
       "      <td>0.462161</td>\n",
       "      <td>0.654275</td>\n",
       "      <td>0.749524</td>\n",
       "      <td>0.400432</td>\n",
       "    </tr>\n",
       "    <tr>\n",
       "      <th>2</th>\n",
       "      <td>SVM</td>\n",
       "      <td>0.748036</td>\n",
       "      <td>0.701623</td>\n",
       "      <td>0.529408</td>\n",
       "      <td>0.632500</td>\n",
       "      <td>0.802215</td>\n",
       "      <td>0.589524</td>\n",
       "    </tr>\n",
       "    <tr>\n",
       "      <th>3</th>\n",
       "      <td>DNN</td>\n",
       "      <td>0.804001</td>\n",
       "      <td>0.725916</td>\n",
       "      <td>0.546808</td>\n",
       "      <td>0.616627</td>\n",
       "      <td>0.828973</td>\n",
       "      <td>0.606998</td>\n",
       "    </tr>\n",
       "  </tbody>\n",
       "</table>\n",
       "</div>"
      ],
      "text/plain": [
       "   Model used Test Accuracy  F1 score  ...    Recall   ROC AUC Precision-recall AUC\n",
       "0  Base model      0.597071  0.564518  ...   0.73851  0.708752             0.428837\n",
       "1          DT       0.75739   0.68836  ...  0.654275  0.749524             0.400432\n",
       "2         SVM      0.748036  0.701623  ...  0.632500  0.802215             0.589524\n",
       "3         DNN      0.804001  0.725916  ...  0.616627  0.828973             0.606998\n",
       "\n",
       "[4 rows x 7 columns]"
      ]
     },
     "execution_count": 37,
     "metadata": {
      "tags": []
     },
     "output_type": "execute_result"
    }
   ],
   "source": [
    "eval_metrics_table(models,model_names)"
   ]
  }
 ],
 "metadata": {
  "accelerator": "GPU",
  "colab": {
   "collapsed_sections": [
    "0kpaFnZ26f9-",
    "ophaiGh_hXdL"
   ],
   "name": "Rain_in_Australia_Model_SMOTE dataset.ipynb",
   "provenance": []
  },
  "kernelspec": {
   "display_name": "Python 3",
   "language": "python",
   "name": "python3"
  },
  "language_info": {
   "codemirror_mode": {
    "name": "ipython",
    "version": 3
   },
   "file_extension": ".py",
   "mimetype": "text/x-python",
   "name": "python",
   "nbconvert_exporter": "python",
   "pygments_lexer": "ipython3",
   "version": "3.8.3"
  }
 },
 "nbformat": 4,
 "nbformat_minor": 4
}
